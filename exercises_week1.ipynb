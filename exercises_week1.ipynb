{
 "cells": [
  {
   "cell_type": "markdown",
   "metadata": {},
   "source": [
    "## Beginner exercises"
   ]
  },
  {
   "cell_type": "markdown",
   "metadata": {},
   "source": [
    "**Ex 1**: In the cell below, write a short text that demonstrates that you can\n",
    "* Create a section with a heading\n",
    "* Write words in bold and italics\n",
    "* Establish a [hyperlink](https://en.wikipedia.org/wiki/Hyperlink)"
   ]
  },
  {
   "cell_type": "markdown",
   "metadata": {},
   "source": [
    "## headind "
   ]
  },
  {
   "cell_type": "markdown",
   "metadata": {},
   "source": [
    "**bold letters**"
   ]
  },
  {
   "cell_type": "markdown",
   "metadata": {},
   "source": [
    "[this is a hyperlink] //www.bing.com"
   ]
  },
  {
   "cell_type": "markdown",
   "metadata": {},
   "source": [
    "**Ex 2** Calculate the remainder of the division of 18 by 7. "
   ]
  },
  {
   "cell_type": "code",
   "execution_count": 15,
   "metadata": {},
   "outputs": [
    {
     "name": "stdout",
     "output_type": "stream",
     "text": [
      "4\n"
     ]
    }
   ],
   "source": [
    "remainder=18%7\n",
    "print(remainder)"
   ]
  },
  {
   "cell_type": "markdown",
   "metadata": {},
   "source": [
    "**Ex 3** Calcuate 3 to the power of 4; i.e. $3^4$"
   ]
  },
  {
   "cell_type": "code",
   "execution_count": 2,
   "metadata": {},
   "outputs": [
    {
     "data": {
      "text/plain": [
       "81"
      ]
     },
     "execution_count": 2,
     "metadata": {},
     "output_type": "execute_result"
    }
   ],
   "source": [
    "3**4"
   ]
  },
  {
   "cell_type": "markdown",
   "metadata": {},
   "source": [
    "**Ex 4** Calculate the square root of 49"
   ]
  },
  {
   "cell_type": "code",
   "execution_count": 12,
   "metadata": {},
   "outputs": [
    {
     "name": "stdout",
     "output_type": "stream",
     "text": [
      "7.0\n"
     ]
    }
   ],
   "source": [
    "x=49\n",
    "sq_root=x**(1/2)\n",
    "print(sq_root)"
   ]
  },
  {
   "cell_type": "markdown",
   "metadata": {},
   "source": [
    "**Ex 5** Convert the following string to a float and round it to the nearest 3 digits after the decimal"
   ]
  },
  {
   "cell_type": "code",
   "execution_count": 11,
   "metadata": {
    "scrolled": true
   },
   "outputs": [
    {
     "data": {
      "text/plain": [
       "3.142"
      ]
     },
     "execution_count": 11,
     "metadata": {},
     "output_type": "execute_result"
    }
   ],
   "source": [
    "pi = \"3.14159265\"\n",
    "float_pi=float(pi)\n",
    "round(float_pi,3)"
   ]
  },
  {
   "cell_type": "markdown",
   "metadata": {},
   "source": [
    "**Ex 6** **Convert** the variable number=4.9 to an integer"
   ]
  },
  {
   "cell_type": "code",
   "execution_count": 12,
   "metadata": {},
   "outputs": [
    {
     "data": {
      "text/plain": [
       "4"
      ]
     },
     "execution_count": 12,
     "metadata": {},
     "output_type": "execute_result"
    }
   ],
   "source": [
    "int (4.9)\n"
   ]
  },
  {
   "cell_type": "markdown",
   "metadata": {},
   "source": [
    "**Ex 7** Now round number=4.9 to the **nearest** integer. What is the difference between the converted number of the previous exercise and this exercise?"
   ]
  },
  {
   "cell_type": "code",
   "execution_count": 13,
   "metadata": {},
   "outputs": [
    {
     "data": {
      "text/plain": [
       "5"
      ]
     },
     "execution_count": 13,
     "metadata": {},
     "output_type": "execute_result"
    }
   ],
   "source": [
    "round(4.9)"
   ]
  },
  {
   "cell_type": "markdown",
   "metadata": {},
   "source": [
    "**Ex 8** Calculate the length of the following list (i.e. how many names are in the list) and print each of its values separated by a newline. The output of the print statement(s) should look like this: \\\n",
    "\\\n",
    "Miriam \\\n",
    "Tim \\\n",
    "Jing \\\n",
    "..."
   ]
  },
  {
   "cell_type": "code",
   "execution_count": 16,
   "metadata": {},
   "outputs": [
    {
     "name": "stdout",
     "output_type": "stream",
     "text": [
      "Miriam\n",
      "Tim\n",
      "Jing\n",
      "Carlos\n",
      "Ruben\n",
      "Ashley\n"
     ]
    }
   ],
   "source": [
    "names = [\"Miriam\", \"Tim\", \"Jing\", \"Carlos\", \"Ruben\", \"Ashley\"]\n",
    "len(names)\n",
    "for i in names:\n",
    "    print(i)"
   ]
  },
  {
   "cell_type": "markdown",
   "metadata": {},
   "source": [
    "**Ex 9** Add a list with the following new names to the previous list \\\n",
    "new_names = [\"Pablo\", \"Lise\"]"
   ]
  },
  {
   "cell_type": "code",
   "execution_count": 7,
   "metadata": {},
   "outputs": [
    {
     "name": "stdout",
     "output_type": "stream",
     "text": [
      "['Miriam', 'Tim', 'Jing', 'Carlos', 'Ruben', 'Ashley', 'Pablo', 'Lise']\n"
     ]
    }
   ],
   "source": [
    "names = [\"Miriam\", \"Tim\", \"Jing\", \"Carlos\", \"Ruben\", \"Ashley\"]\n",
    "new_names=[\"Pablo\",\"Lise\"]\n",
    "new_namelist=names+new_names\n",
    "print(new_namelist)"
   ]
  },
  {
   "cell_type": "markdown",
   "metadata": {},
   "source": [
    "**Ex 10** Print the second and second to last name of the newly created list. The output should be Tim and Pablo"
   ]
  },
  {
   "cell_type": "code",
   "execution_count": 8,
   "metadata": {
    "scrolled": true
   },
   "outputs": [
    {
     "name": "stdout",
     "output_type": "stream",
     "text": [
      "Tim\n",
      "Pablo\n"
     ]
    }
   ],
   "source": [
    "print(new_namelist[1])\n",
    "print(new_namelist[-2])"
   ]
  },
  {
   "cell_type": "markdown",
   "metadata": {},
   "source": [
    "**Ex 11** Calculate the sum and the average of the value in the following list"
   ]
  },
  {
   "cell_type": "code",
   "execution_count": 29,
   "metadata": {},
   "outputs": [
    {
     "name": "stdout",
     "output_type": "stream",
     "text": [
      "187\n",
      "31.166666666666668\n"
     ]
    }
   ],
   "source": [
    "age = [11, 22, 33, 44, 22, 55]\n",
    "age_total=0\n",
    "for i in age:\n",
    "    age_total+=i\n",
    "print(age_total)\n",
    "everage=age_total/len(age)\n",
    "print(everage)"
   ]
  },
  {
   "cell_type": "markdown",
   "metadata": {},
   "source": [
    "**Ex 12** Sort the age list in an ascending (increasing) order and get the count of the number 22 within the list (i.e; calculate how often the number 22 appears in the age list"
   ]
  },
  {
   "cell_type": "code",
   "execution_count": 20,
   "metadata": {},
   "outputs": [
    {
     "name": "stdout",
     "output_type": "stream",
     "text": [
      "[11, 22, 22, 33, 44, 55]\n"
     ]
    }
   ],
   "source": [
    "age=[11,22,33,44,22,55]\n",
    "test  = []\n",
    "sorted_list=[]\n",
    "\n",
    "index=0\n",
    "length= len(age)\n",
    "j=1\n",
    "while j <length:\n",
    "    while j<length:\n",
    "        if age[index]<= age[j]:\n",
    "            j+=1\n",
    "        else:\n",
    "            #swap\n",
    "            temp=age[index]\n",
    "            age[index]=age[j]\n",
    "            age[j]=temp\n",
    "            j+=1\n",
    "    sorted_list.append(age[index]) \n",
    "    del age[index]\n",
    "    j=1\n",
    "    length= len(age)\n",
    "\n",
    "sorted_list.append(age[index])    \n",
    "print(sorted_list)\n",
    "    "
   ]
  },
  {
   "cell_type": "markdown",
   "metadata": {},
   "source": [
    "**Ex 13** Write a function to calculate the sum of three given numbers, if the values are equal then return three times of their sum."
   ]
  },
  {
   "cell_type": "code",
   "execution_count": 1,
   "metadata": {},
   "outputs": [
    {
     "name": "stdout",
     "output_type": "stream",
     "text": [
      "Enter three values: 2 2 2\n",
      "216\n"
     ]
    }
   ],
   "source": [
    "raw_x, raw_y,raw_z = input(\"Enter three values: \").split()\n",
    "x=int(raw_x)\n",
    "y=int(raw_y)\n",
    "z=int(raw_z)\n",
    "result= (x+y+z)**3\n",
    "print(result)"
   ]
  },
  {
   "cell_type": "markdown",
   "metadata": {},
   "source": []
  },
  {
   "cell_type": "markdown",
   "metadata": {},
   "source": [
    "**Ex 14** Write a function to check if a value is within the following list. The output should look like this:\\\n",
    "Miriam was found in the list\\\n",
    "Peter was not found in the list"
   ]
  },
  {
   "cell_type": "code",
   "execution_count": 2,
   "metadata": {},
   "outputs": [
    {
     "name": "stdout",
     "output_type": "stream",
     "text": [
      "enter the name:Tim\n",
      "Tim was found in the list\n"
     ]
    }
   ],
   "source": [
    "names = [\"Miriam\", \"Tim\", \"Jing\", \"Carlos\", \"Ruben\", \"Ashley\"]\n",
    "name=input(\"enter the name:\")\n",
    "found = 0\n",
    "for x in names:\n",
    "    if name==x: \n",
    "        print(name,\"was found in the list\")\n",
    "        found =1\n",
    "        break\n",
    "if(found==0):\n",
    "    print(name,\"was not found in the list\")"
   ]
  },
  {
   "cell_type": "markdown",
   "metadata": {},
   "source": [
    "**Ex 15** Write a function that will accept the base and height of a triangle and compute the area. The area of a triangle is calculate as Area= 0.5 * height * base"
   ]
  },
  {
   "cell_type": "code",
   "execution_count": 1,
   "metadata": {},
   "outputs": [
    {
     "name": "stdout",
     "output_type": "stream",
     "text": [
      "enter the base and height to calculate the area:2 4\n",
      "4.0\n"
     ]
    }
   ],
   "source": [
    "raw_base, raw_height = input(\"enter the base and height to calculate the area:\").split()\n",
    "base=int(raw_base)\n",
    "height=int(raw_height)\n",
    "area=0.5*base*height\n",
    "print(area)"
   ]
  },
  {
   "cell_type": "code",
   "execution_count": null,
   "metadata": {
    "collapsed": true
   },
   "outputs": [],
   "source": []
  },
  {
   "cell_type": "markdown",
   "metadata": {},
   "source": [
    "**Ex16** Print **only** the strings within the following list. Use the isinstance function to compare the type of a variable against its expected type"
   ]
  },
  {
   "cell_type": "code",
   "execution_count": 3,
   "metadata": {},
   "outputs": [
    {
     "name": "stdout",
     "output_type": "stream",
     "text": [
      "Miriam\n",
      "Tim\n",
      "Jing\n",
      "Carlos\n"
     ]
    }
   ],
   "source": [
    "students = [\"Miriam\", 22, \"Tim\", 25, \"Jing\", 28, \"Carlos\"]\n",
    "for str_student in students:\n",
    "    if (isinstance(str_student,str)==True):\n",
    "        print(str_student)\n",
    "    "
   ]
  },
  {
   "cell_type": "markdown",
   "metadata": {},
   "source": [
    "**Ex 17** For the following two lists, print the student name followed by their age. HINT: use the zip function"
   ]
  },
  {
   "cell_type": "code",
   "execution_count": 12,
   "metadata": {},
   "outputs": [
    {
     "data": {
      "text/plain": [
       "[('Miriam', 25, 'pakistan'),\n",
       " ('Tim', 22, 'India'),\n",
       " ('Jing', 24, 'Germany'),\n",
       " ('Carlos', 33, 'Denmark')]"
      ]
     },
     "execution_count": 12,
     "metadata": {},
     "output_type": "execute_result"
    }
   ],
   "source": [
    "names = [\"Miriam\", \"Tim\", \"Jing\", \"Carlos\", \"Ruben\", \"Ashley\",\"Last\"]\n",
    "ages =  [25, 22, 24, 33, 22, 21]\n",
    "country =[\"pakistan\",\"India\",\"Germany\",\"Denmark\"]\n",
    "\n",
    "zipped=zip(names,ages,country)\n",
    "#print (tuple(zipped))\n",
    "list(zipped)"
   ]
  },
  {
   "cell_type": "markdown",
   "metadata": {},
   "source": [
    "**Ex 18** Create a dictionary which keys are the names of the students and the corresponding values are their age. The dictionary should look like this \\\n",
    "{'Miriam': 25, 'Tim': 22, 'Jing': 24, 'Carlos': 33, 'Ruben': 22, 'Ashley': 21}"
   ]
  },
  {
   "cell_type": "code",
   "execution_count": 5,
   "metadata": {},
   "outputs": [
    {
     "name": "stdout",
     "output_type": "stream",
     "text": [
      "{'Mariam': 25, 'Tim': 22, 'Jing': 34, 'Carlos': 33, 'Ruben': 22, 'Ashelay': 21}\n"
     ]
    }
   ],
   "source": [
    "student={\n",
    "\n",
    "    \"Mariam\":25,\n",
    "    \"Tim\":22,\n",
    "    \"Jing\":34,\n",
    "    \"Carlos\":33,\n",
    "    \"Ruben\":22,\n",
    "    \"Ashelay\":21\n",
    "   \n",
    "}\n",
    "print(student)"
   ]
  },
  {
   "cell_type": "markdown",
   "metadata": {},
   "source": [
    "**Ex 19** Create a nested dictionary to assign to each student their age and grade. The output should look like this \\\n",
    "{'Miriam': {'age': 25, 'grade': 12},\n",
    " 'Tim': {'age': 22, 'grade': 12},\n",
    " 'Jing': {'age': 24, 'grade': 12},\n",
    " 'Carlos': {'age': 33, 'grade': 10},\n",
    " 'Ruben': {'age': 22, 'grade': 7},\n",
    " 'Ashley': {'age': 21, 'grade': 10}}"
   ]
  },
  {
   "cell_type": "code",
   "execution_count": 9,
   "metadata": {},
   "outputs": [
    {
     "name": "stdout",
     "output_type": "stream",
     "text": [
      "{'Miriam': {'age': 25, 'grade': 12}, 'Tim': {'age': 22, 'grade': 12}, 'Jing': {'age': 34, 'grade': 12}, 'Carlos': {'age': 33, 'grade': 10}, 'Ruben': {'age': 22, 'grade': 7}, 'Ashelay': {'age': 21, 'grade': 10}}\n"
     ]
    }
   ],
   "source": [
    "grades = [12, 12, 12, 10, 7, 10]\n",
    "student={\n",
    "\n",
    "    \"Miriam\":{\"age\":25,\"grade\":12},\n",
    "    \"Tim\":{\"age\":22,\"grade\":12},\n",
    "    \"Jing\":{\"age\":34,\"grade\":12},\n",
    "    \"Carlos\":{\"age\":33,\"grade\":10},\n",
    "    \"Ruben\":{\"age\":22,\"grade\":7},\n",
    "    \"Ashelay\":{\"age\":21,\"grade\":10}\n",
    "   \n",
    "}\n",
    "print(student)"
   ]
  },
  {
   "cell_type": "markdown",
   "metadata": {},
   "source": [
    "**Ex 20** Miriam decided to drop out of the class. Remove her entry in the students dictionary."
   ]
  },
  {
   "cell_type": "code",
   "execution_count": 10,
   "metadata": {},
   "outputs": [
    {
     "name": "stdout",
     "output_type": "stream",
     "text": [
      "{'Tim': {'age': 22, 'grade': 12}, 'Jing': {'age': 34, 'grade': 12}, 'Carlos': {'age': 33, 'grade': 10}, 'Ruben': {'age': 22, 'grade': 7}, 'Ashelay': {'age': 21, 'grade': 10}}\n"
     ]
    }
   ],
   "source": [
    "student.pop(\"Miriam\")\n",
    "print(student)"
   ]
  },
  {
   "cell_type": "markdown",
   "metadata": {},
   "source": [
    "**Ex 21** First, generate a sequence of numbers from 1 to 20. Then print **only** the numbers for which the remainder is 0 when being divided by 6. E.g. 12 because 12/6 = 2. The output should be 6, 12 and 18"
   ]
  },
  {
   "cell_type": "code",
   "execution_count": 15,
   "metadata": {},
   "outputs": [
    {
     "name": "stdout",
     "output_type": "stream",
     "text": [
      "6\n",
      "12\n",
      "18\n"
     ]
    }
   ],
   "source": [
    "sequence=[1,2,3,4,5,6,7,8,9,10,11,12,13,14,15,16,17,18,19,20]\n",
    "for i in sequence:\n",
    "    answer=i%6\n",
    "    if answer==0:\n",
    "        print(i)\n",
    "    "
   ]
  },
  {
   "cell_type": "markdown",
   "metadata": {},
   "source": [
    "**Ex 22** Generate  \\\n",
    "\"The holidays will begin on: 25/11/1992\"  \\\n",
    "from the following tuple "
   ]
  },
  {
   "cell_type": "code",
   "execution_count": 31,
   "metadata": {},
   "outputs": [
    {
     "name": "stdout",
     "output_type": "stream",
     "text": [
      "(25, 11, 1992)\n",
      "The holidays will begin on:(25, 11, 1992)\n"
     ]
    }
   ],
   "source": [
    "date = (25, 11, 1992)\n",
    "print (str(date))\n",
    "message =\"The holidays will begin on:{0}\".format(str(date))\n",
    "print(message)\n"
   ]
  },
  {
   "cell_type": "code",
   "execution_count": null,
   "metadata": {
    "collapsed": true
   },
   "outputs": [],
   "source": []
  },
  {
   "cell_type": "markdown",
   "metadata": {},
   "source": [
    "**Ex 23** Write a function to find whether a given number is even or odd, print out an appropriate message."
   ]
  },
  {
   "cell_type": "code",
   "execution_count": 1,
   "metadata": {},
   "outputs": [
    {
     "name": "stdout",
     "output_type": "stream",
     "text": [
      "5\n",
      "5 :is an odd number.\n"
     ]
    }
   ],
   "source": [
    "raw_number=input()\n",
    "number=int(raw_number)\n",
    "remainder=number%2\n",
    "if remainder==1:\n",
    "    print(number,\":is an odd number.\")\n",
    "else:\n",
    "    print(number,\":is an even number.\")"
   ]
  },
  {
   "cell_type": "markdown",
   "metadata": {},
   "source": [
    "**Ex 24** Make a program ask for a name, and then write a greeting using that name.\\\n",
    "HINT: use the input function to get the user input (e.g. name=input(\"Write your username\"))\n",
    "\n",
    "\\\n",
    "The output should look similar to this:\\\n",
    "Please type your username Adrian\\\n",
    "Hello Adrian."
   ]
  },
  {
   "cell_type": "code",
   "execution_count": 2,
   "metadata": {},
   "outputs": [
    {
     "name": "stdout",
     "output_type": "stream",
     "text": [
      "Write your username.aniza\n",
      "Hello aniza\n"
     ]
    }
   ],
   "source": [
    "input_name=input(\"Write your username.\")\n",
    "print(\"Hello\",input_name)"
   ]
  },
  {
   "cell_type": "markdown",
   "metadata": {},
   "source": [
    "**Ex 25** Ask for two numbers and ask what operation to perform on them (+, - , *, /) and display the numbers and the result. Again, use the input function.\\\n",
    "The output should look like this\n",
    "\n",
    "\\\n",
    "Please type two numbers and a mathematical operator to perform on them. All 3 inputs must be separated by a whitespace 1 1.5 +\\\n",
    "The result is: 2.5\n",
    "\n",
    "\n",
    "Please type two numbers and a mathematical operator to perform on them. All 3 inputs must be separated by a whitespace 2 2 *\\\n",
    "The result is: 4.0"
   ]
  },
  {
   "cell_type": "code",
   "execution_count": 2,
   "metadata": {},
   "outputs": [
    {
     "name": "stdout",
     "output_type": "stream",
     "text": [
      "Please enter two numbers you want to calculate.6 2\n",
      "please enter the oprter./\n",
      "Result is: 3.0\n"
     ]
    }
   ],
   "source": [
    "raw_num1,raw_num2=input(\"Please enter two numbers you want to calculate.\").split()\n",
    "num1=int(raw_num1)\n",
    "num2=int(raw_num2)\n",
    "#result=0\n",
    "operator=input(\"please enter the oprter.\")\n",
    "\n",
    "if operator==\"+\":\n",
    "    result=num1+num2\n",
    "    print(\"Result is:\",result)\n",
    "\n",
    "elif operator==\"-\":\n",
    "    result=num1-num2\n",
    "    print(\"Result is:\",result)\n",
    "    \n",
    "    \n",
    "elif operator==\"*\":\n",
    "    result=num1*num2\n",
    "    print(\"Result is:\",result)\n",
    "    \n",
    "else:\n",
    "    result=num1/num2\n",
    "    print(\"Result is:\",result) \n",
    "    "
   ]
  },
  {
   "cell_type": "markdown",
   "metadata": {},
   "source": [
    "**Ex 26** Write a function to calculate the factorial (n!) (e.g. 4! = 4 * 3 * 2 * 1. Perform input control. For example, the input must be a positive integer. Thus, if the input is negative, the function should return an error message. The same applies for inputs with type float or str.\\\n",
    "\n",
    "The output should look like:\\\n",
    "1 = factorial(0)\\\n",
    "1 = factorial(1)\\\n",
    "6 = factorial(3)\\\n",
    "24 = factorial(4)"
   ]
  },
  {
   "cell_type": "code",
   "execution_count": 1,
   "metadata": {},
   "outputs": [
    {
     "name": "stdout",
     "output_type": "stream",
     "text": [
      "5\n",
      "factorial of 5 is 120\n"
     ]
    }
   ],
   "source": [
    "input_num=int(input())\n",
    "result=1\n",
    "if input_num<0:\n",
    "    print(\"ERROR:input value should be positive.\")\n",
    "for i in range(input_num):\n",
    "    result=(i+1)*result\n",
    "\n",
    "print(\"factorial of\",input_num,\"is\",result)    "
   ]
  },
  {
   "cell_type": "markdown",
   "metadata": {},
   "source": [
    "**Ex 27** Write a program (using functions!) that asks the user for a long string containing multiple words. Print back to the user the same string, except with the words in backwards order. For example, say I type the string:\n",
    "\n",
    "  My name is Michele\\\n",
    "Then I would see the string:\n",
    "\n",
    "  Michele is name My\\\n",
    "shown back to me."
   ]
  },
  {
   "cell_type": "code",
   "execution_count": 8,
   "metadata": {},
   "outputs": [
    {
     "name": "stdout",
     "output_type": "stream",
     "text": [
      "my name is aniza\n",
      "['aniza', 'is', 'name', 'my']\n"
     ]
    }
   ],
   "source": [
    "input_list=input()\n",
    "\n",
    "saperate_list=input_list.split()\n",
    "\n",
    "saperate_list.reverse()\n",
    "\n",
    "print(saperate_list)\n",
    "   "
   ]
  },
  {
   "cell_type": "markdown",
   "metadata": {},
   "source": [
    "**Ex 28** Write a small function to check if a string is a Palindrome (https://en.wikipedia.org/wiki/Palindrome)\n",
    "\n",
    "The output could look like this:\n",
    "\n",
    "Tenet is a Palindrome\\\n",
    "China is not Palindrome"
   ]
  },
  {
   "cell_type": "code",
   "execution_count": 5,
   "metadata": {},
   "outputs": [
    {
     "name": "stdout",
     "output_type": "stream",
     "text": [
      "Enter a string:bob\n",
      "bob is a palindrome.\n"
     ]
    }
   ],
   "source": [
    "input_string=input(\"Enter a string:\")\n",
    "result=input_string[::-1]\n",
    "if (result==input_string):jhyuji\n",
    "    print(result,\"is a palindrome.\")\n",
    "else:\n",
    "    print(result,\"is not a palindrome.\")"
   ]
  }
 ],
 "metadata": {
  "kernelspec": {
   "display_name": "Python 3",
   "language": "python",
   "name": "python3"
  },
  "language_info": {
   "codemirror_mode": {
    "name": "ipython",
    "version": 3
   },
   "file_extension": ".py",
   "mimetype": "text/x-python",
   "name": "python",
   "nbconvert_exporter": "python",
   "pygments_lexer": "ipython3",
   "version": "3.6.2"
  }
 },
 "nbformat": 4,
 "nbformat_minor": 5
}
